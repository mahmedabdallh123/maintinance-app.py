{
 "cells": [
  {
   "cell_type": "code",
   "execution_count": 1,
   "id": "6d5a79d0-ccd0-46dd-bb84-b4608bfee749",
   "metadata": {},
   "outputs": [
    {
     "name": "stderr",
     "output_type": "stream",
     "text": [
      "2025-10-17 16:43:06.057 WARNING streamlit.runtime.caching.cache_data_api: No runtime found, using MemoryCacheStorageManager\n",
      "2025-10-17 16:43:07.880 \n",
      "  \u001b[33m\u001b[1mWarning:\u001b[0m to view this Streamlit app on a browser, run it with the following\n",
      "  command:\n",
      "\n",
      "    streamlit run C:\\Users\\LAP ME\\anaconda3\\Lib\\site-packages\\ipykernel_launcher.py [ARGUMENTS]\n",
      "2025-10-17 16:43:07.890 No runtime found, using MemoryCacheStorageManager\n"
     ]
    }
   ],
   "source": [
    "import streamlit as st\n",
    "import pandas as pd\n",
    "import re\n",
    "\n",
    "# 📂 تحميل البيانات من ملف الإكسيل\n",
    "@st.cache_data\n",
    "def load_data():\n",
    "    sheets = pd.read_excel(\"Machine_Service_Lookup.xlsx\", sheet_name=None)\n",
    "    return sheets[\"Machine\"].copy(), sheets[\"ServicePlan\"].copy(), sheets\n",
    "\n",
    "# 🔠 توحيد شكل الأسماء\n",
    "def normalize_name(s):\n",
    "    if isinstance(s, str):\n",
    "        return re.sub(r'\\s+', '', s.strip().lower())\n",
    "    return s\n",
    "\n",
    "# ⚙️ دالة لإيجاد خطة الصيانة\n",
    "def find_service_plan(machine_df, plan_df, machine_id, tons):\n",
    "    machine_id = normalize_name(machine_id)\n",
    "    df_machine = machine_df.copy()\n",
    "    df_machine[\"Normalized\"] = df_machine[\"MachineID\"].apply(normalize_name)\n",
    "\n",
    "    row = df_machine[df_machine[\"Normalized\"] == machine_id]\n",
    "    if row.empty:\n",
    "        return \"❌ الماكينة غير موجودة في البيانات.\"\n",
    "\n",
    "    model = normalize_name(row[\"Model\"].iloc[0])\n",
    "    df_plan = plan_df.copy()\n",
    "    df_plan[\"NormalizedModel\"] = df_plan[\"Model\"].apply(normalize_name)\n",
    "\n",
    "    related_plan = df_plan[df_plan[\"NormalizedModel\"] == model]\n",
    "    if related_plan.empty:\n",
    "        return \"⚠️ لا توجد خطة صيانة لهذا الموديل.\"\n",
    "\n",
    "    related_plan = related_plan.sort_values(by=\"Tons\")\n",
    "    next_service = related_plan[related_plan[\"Tons\"] >= tons].head(1)\n",
    "    if next_service.empty:\n",
    "        return \"✅ الماكينة تجاوزت كل الحدود المتاحة في الخطة.\"\n",
    "\n",
    "    service_task = next_service[\"ServiceTask\"].iloc[0]\n",
    "    due_at = next_service[\"Tons\"].iloc[0]\n",
    "    return f\"🔧 الخدمة القادمة: **{service_task}** عند {due_at} طن.\"\n",
    "\n",
    "# 🖥️ واجهة Streamlit\n",
    "st.title(\"📊 نظام متابعة الصيانة التنبؤية\")\n",
    "st.write(\"أدخل رقم الماكينة وعدد الأطنان الحالية لمعرفة الصيانة القادمة\")\n",
    "\n",
    "machine_df, plan_df, _ = load_data()\n",
    "\n",
    "machine_id = st.text_input(\"رقم الماكينة:\")\n",
    "tons = st.number_input(\"عدد الأطنان الحالية:\", min_value=0, step=100)\n",
    "\n",
    "if st.button(\"عرض خطة الصيانة\"):\n",
    "    if machine_id:\n",
    "        result = find_service_plan(machine_df, plan_df, machine_id, tons)\n",
    "        st.success(result)\n",
    "    else:\n",
    "        st.warning(\"من فضلك أدخل رقم الماكينة أولًا.\")\n"
   ]
  },
  {
   "cell_type": "code",
   "execution_count": null,
   "id": "2431ce3c-a212-49c7-bfae-504a3e28ee6f",
   "metadata": {},
   "outputs": [],
   "source": []
  }
 ],
 "metadata": {
  "kernelspec": {
   "display_name": "Python 3 (ipykernel)",
   "language": "python",
   "name": "python3"
  },
  "language_info": {
   "codemirror_mode": {
    "name": "ipython",
    "version": 3
   },
   "file_extension": ".py",
   "mimetype": "text/x-python",
   "name": "python",
   "nbconvert_exporter": "python",
   "pygments_lexer": "ipython3",
   "version": "3.12.4"
  }
 },
 "nbformat": 4,
 "nbformat_minor": 5
}
